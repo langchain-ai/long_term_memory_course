{
 "cells": [
  {
   "cell_type": "code",
   "execution_count": null,
   "metadata": {
    "vscode": {
     "languageId": "shellscript"
    }
   },
   "outputs": [],
   "source": [
    "! pip install langchain-anthropic langgraph langchain_core"
   ]
  },
  {
   "cell_type": "code",
   "execution_count": 1,
   "metadata": {},
   "outputs": [],
   "source": [
    "import os, getpass\n",
    "\n",
    "def _set_env(var: str):\n",
    "    if not os.environ.get(var):\n",
    "        os.environ[var] = getpass.getpass(f\"{var}: \")\n",
    "\n",
    "_set_env(\"ANTHROPIC_API_KEY\")"
   ]
  },
  {
   "cell_type": "markdown",
   "metadata": {},
   "source": [
    "## Baeline app"
   ]
  },
  {
   "cell_type": "code",
   "execution_count": 37,
   "metadata": {},
   "outputs": [
    {
     "data": {
      "text/plain": [
       "<module 'src.memory_course.schemas' from '/Users/rlm/Desktop/Code/langgraph-memory-course/notebooks/../src/memory_course/schemas.py'>"
      ]
     },
     "execution_count": 37,
     "metadata": {},
     "output_type": "execute_result"
    }
   ],
   "source": [
    "import sys\n",
    "sys.path.append('..')\n",
    "import src.memory_course.prompts\n",
    "import src.memory_course.utils\n",
    "import src.memory_course.schemas\n",
    "\n",
    "# Reload the module in case any changes were made\n",
    "import importlib\n",
    "importlib.reload(src.memory_course.prompts)\n",
    "importlib.reload(src.memory_course.utils)\n",
    "importlib.reload(src.memory_course.schemas)"
   ]
  },
  {
   "cell_type": "code",
   "execution_count": 10,
   "metadata": {},
   "outputs": [],
   "source": [
    "# LLM \n",
    "from langchain_anthropic import ChatAnthropic\n",
    "llm = ChatAnthropic(model=\"claude-3-5-sonnet-latest\")"
   ]
  },
  {
   "cell_type": "markdown",
   "metadata": {},
   "source": [
    "### Email Assistant\n",
    "\n",
    "![Memory Course App](img/memory_course_email.png)"
   ]
  },
  {
   "cell_type": "markdown",
   "metadata": {},
   "source": [
    "### Define Triage \n",
    "\n",
    "Create and test logic for triage."
   ]
  },
  {
   "cell_type": "code",
   "execution_count": 13,
   "metadata": {},
   "outputs": [],
   "source": [
    "from pydantic import BaseModel, Field\n",
    "from typing import Literal\n",
    "from src.memory_course.schemas import Router\n",
    "\n",
    "# Define and augment LLM with structured output\n",
    "llm_router = llm.with_structured_output(Router)"
   ]
  },
  {
   "cell_type": "code",
   "execution_count": 15,
   "metadata": {},
   "outputs": [],
   "source": [
    "# - From user profile memory - \n",
    "full_name = \"John Doe\"\n",
    "name = \"John\"\n",
    "profile = \"John is a senior software engineer who leads a team of 5 developers\" \n",
    "\n",
    "# - From triage examples in memory - \n",
    "triage_no = \"- Marketing newsletters\\n- Spam emails\\n- Mass company announcements\"\n",
    "triage_notify = \"- Team member out sick\\n- Build system notifications\\n- Project status updates\"\n",
    "triage_email = \"- Direct questions from team members\\n- Meeting requests from stakeholders\\n- Critical bug reports\"\n",
    "\n",
    "# - From email parsing during app ingestion - \n",
    "email_thread = \"\"\"\n",
    "Hi John,\n",
    "\n",
    "I was reviewing the API documentation for the new authentication service and noticed a few endpoints seem to be missing from the specs. Could you help clarify if this was intentional or if we should update the docs?\n",
    "\n",
    "Specifically, I'm looking at:\n",
    "- /auth/refresh\n",
    "- /auth/validate\n",
    "\n",
    "Thanks!\n",
    "Alice\"\"\"\n",
    "author = \"Alice Smith <alice.smith@company.com>\"\n",
    "to = \"John Doe <john.doe@company.com>\"\n",
    "subject = \"Quick question about API documentation\""
   ]
  },
  {
   "cell_type": "code",
   "execution_count": 16,
   "metadata": {},
   "outputs": [
    {
     "data": {
      "text/plain": [
       "Router(classification='respond')"
      ]
     },
     "execution_count": 16,
     "metadata": {},
     "output_type": "execute_result"
    }
   ],
   "source": [
    "from src.memory_course.prompts import triage_system_prompt, triage_user_prompt\n",
    "\n",
    "# Format the system prompt\n",
    "triage_system_prompt_formatted = triage_system_prompt.format(\n",
    "    full_name=full_name,\n",
    "    name=name,\n",
    "    user_profile_background=profile,\n",
    "    triage_no=triage_no,\n",
    "    triage_notify=triage_notify,\n",
    "    triage_email=triage_email\n",
    ")\n",
    "\n",
    "# Format the user prompt\n",
    "triage_user_prompt_formatted = triage_user_prompt.format(\n",
    "    author=author,\n",
    "    to=to,\n",
    "    subject=subject,\n",
    "    email_thread=email_thread)\n",
    "\n",
    "# Mock the email input \n",
    "messages = [{\"role\": \"system\", \"content\": triage_system_prompt_formatted},\n",
    "            {\"role\": \"user\", \"content\": triage_user_prompt_formatted}]\n",
    "\n",
    "# Test\n",
    "llm_router.invoke(messages)\n"
   ]
  },
  {
   "cell_type": "markdown",
   "metadata": {},
   "source": [
    "### Define Tools \n",
    "\n",
    "Define tools that the agent can use."
   ]
  },
  {
   "cell_type": "code",
   "execution_count": 4,
   "metadata": {},
   "outputs": [],
   "source": [
    "# Define tools \n",
    "# TODO: Replace with actual tools\n",
    "from langchain_core.tools import tool\n",
    "\n",
    "@tool\n",
    "def write_email(to: str, subject: str, content: str) -> str:\n",
    "    \"\"\"Write and send an email.\n",
    "\n",
    "    Args:\n",
    "        to: recipient email address\n",
    "        subject: email subject line\n",
    "        content: email body content\n",
    "    \"\"\"\n",
    "    # Dummy response - in real app would send email\n",
    "    return f\"Email sent to {to} with subject '{subject}'\"\n",
    "\n",
    "\n",
    "@tool\n",
    "def schedule_meeting(\n",
    "    attendees: list[str],\n",
    "    subject: str,\n",
    "    duration_minutes: int,\n",
    "    preferred_day: str\n",
    ") -> str:\n",
    "    \"\"\"Schedule a calendar meeting.\n",
    "\n",
    "    Args:\n",
    "        attendees: list of attendee email addresses\n",
    "        subject: meeting subject/title\n",
    "        duration_minutes: length of meeting in minutes\n",
    "        preferred_day: preferred day for the meeting\n",
    "    \"\"\"\n",
    "    # Dummy response - in real app would check calendar and schedule\n",
    "    return f\"Meeting '{subject}' scheduled for {preferred_day} with {len(attendees)} attendees\"\n",
    "\n",
    "\n",
    "@tool\n",
    "def check_calendar_availability(day: str) -> str:\n",
    "    \"\"\"Check calendar availability for a given day.\n",
    "\n",
    "    Args:\n",
    "        day: the day to check availability for\n",
    "    \"\"\"\n",
    "    # Dummy response - in real app would check actual calendar\n",
    "    return f\"Available times on {day}: 9:00 AM, 2:00 PM, 4:00 PM\"\n",
    "\n",
    "# Augment the LLM with tools\n",
    "tools = [write_email, schedule_meeting, check_calendar_availability]\n",
    "tools_by_name = {tool.name: tool for tool in tools}\n",
    "llm_with_tools = llm.bind_tools(tools)"
   ]
  },
  {
   "cell_type": "code",
   "execution_count": 38,
   "metadata": {},
   "outputs": [
    {
     "data": {
      "text/plain": [
       "[{'name': 'check_calendar_availability',\n",
       "  'args': {'day': 'Tuesday'},\n",
       "  'id': 'toolu_01X8hF5kgJrWJBsT6m7Lkug6',\n",
       "  'type': 'tool_call'}]"
      ]
     },
     "execution_count": 38,
     "metadata": {},
     "output_type": "execute_result"
    }
   ],
   "source": [
    "# Prompt for agent\n",
    "from src.memory_course.prompts import agent_prompt\n",
    "\n",
    "full_name = \"John Doe\"\n",
    "name = \"John\"\n",
    "agent_prompt_formatted = agent_prompt.format(full_name=full_name, name=name)\n",
    "\n",
    "# Mock the user's request\n",
    "messages = [{\"role\": \"system\", \"content\": agent_prompt_formatted},\n",
    "            {\"role\": \"user\", \"content\": \"What is my availability on Tuesday?\"}]\n",
    "\n",
    "# Test the agent\n",
    "result = llm_with_tools.invoke(messages)\n",
    "result.tool_calls"
   ]
  },
  {
   "cell_type": "markdown",
   "metadata": {},
   "source": [
    "### Build agent\n",
    "\n",
    "Combine triage with tool calling agent \n",
    "\n"
   ]
  },
  {
   "cell_type": "code",
   "execution_count": 39,
   "metadata": {},
   "outputs": [],
   "source": [
    "# Prompt for agent\n",
    "from src.memory_course.schemas import State\n",
    "from src.memory_course.utils import parse_email"
   ]
  },
  {
   "cell_type": "code",
   "execution_count": 58,
   "metadata": {},
   "outputs": [
    {
     "data": {
      "image/png": "[encoded data removed]",
      "text/plain": [
       "<IPython.core.display.Image object>"
      ]
     },
     "metadata": {},
     "output_type": "display_data"
    }
   ],
   "source": [
    "from langgraph.graph import StateGraph, START, END\n",
    "from IPython.display import Image, display\n",
    "from langchain_core.messages import HumanMessage, ToolMessage, SystemMessage\n",
    "\n",
    "# Nodes\n",
    "def triage_router(state: State) -> dict:\n",
    "    \"\"\"Route the email to the appropriate classification based on content analysis.\n",
    "    \n",
    "    Args:\n",
    "        state (State): Contains email information and formatting variables\n",
    "            \n",
    "    Returns:\n",
    "        dict: Update state with routing decision\n",
    "    \"\"\"\n",
    "    \n",
    "    # Parse the email\n",
    "    author, to, subject, email_thread = parse_email(state['email_input'])\n",
    "\n",
    "    # - From user profile memory - \n",
    "    full_name = \"John Doe\"\n",
    "    name = \"John\"\n",
    "    profile = \"John is a senior software engineer who leads a team of 5 developers\" \n",
    "\n",
    "    # - From triage examples in memory - \n",
    "    triage_no = \"- Marketing newsletters\\n- Spam emails\\n- Mass company announcements\"\n",
    "    triage_notify = \"- Team member out sick\\n- Build system notifications\\n- Project status updates\"\n",
    "    triage_email = \"- Direct questions from team members\\n- Meeting requests from stakeholders\\n- Critical bug reports\"\n",
    "\n",
    "    # Format the prompts\n",
    "    system_prompt = triage_system_prompt.format(\n",
    "        full_name=full_name,\n",
    "        name=name,\n",
    "        user_profile_background=profile,\n",
    "        triage_no=triage_no,\n",
    "        triage_notify=triage_notify,\n",
    "        triage_email=triage_email\n",
    "    )\n",
    "    \n",
    "    user_prompt = triage_user_prompt.format(\n",
    "        author=author,\n",
    "        to=to,\n",
    "        subject=subject,\n",
    "        email_thread=email_thread\n",
    "    )\n",
    "    \n",
    "    # Create message list\n",
    "    messages = [\n",
    "        {\"role\": \"system\", \"content\": system_prompt},\n",
    "        {\"role\": \"user\", \"content\": user_prompt}\n",
    "    ]\n",
    "    \n",
    "    # Get classification\n",
    "    result = llm_router.invoke(messages)\n",
    "\n",
    "    # See the agent if we want to response\n",
    "    if result.classification == \"respond\":\n",
    "        message = HumanMessage(content=f\"Respond to the email {state['email_input']}\")\n",
    "        return {\"routing_decision\": result.classification, \"messages\": [message]}\n",
    "    \n",
    "    else:\n",
    "        return {\"routing_decision\": result.classification}\n",
    "\n",
    "def llm_call(state: State):\n",
    "    \"\"\"Process the current state with the LLM to determine and execute next actions.\n",
    "    \n",
    "    This function takes the current state and uses the LLM to decide whether to:\n",
    "    1. Call a tool (write_email, schedule_meeting, check_calendar_availability)\n",
    "    2. Respond directly to the user\n",
    "    \n",
    "    Args:\n",
    "        state (State): Current workflow state containing:\n",
    "            - messages: List of previous messages in the conversation\n",
    "            - other context variables\n",
    "            \n",
    "    Returns:\n",
    "        dict: Updated state with new messages, including any tool calls\n",
    "            the LLM decided to make\n",
    "    \"\"\"\n",
    "\n",
    "    # Format the messages\n",
    "    full_name = \"John Doe\"\n",
    "    name = \"John\"\n",
    "    agent_prompt_formatted = agent_prompt.format(full_name=full_name, name=name)\n",
    "    messages = [SystemMessage(content=agent_prompt_formatted)] + state[\"messages\"]\n",
    "\n",
    "    # Update the messages with the LLM call\n",
    "    return {\"messages\": [llm_with_tools.invoke(messages)]}\n",
    "\n",
    "def tool_node(state: dict):\n",
    "    \"\"\"Executes tool calls based on the LLM's decisions.\n",
    "    \n",
    "    This function processes any tool calls that were requested by the LLM in the previous state.\n",
    "    It supports multiple tools:\n",
    "    - write_email: Send emails to recipients\n",
    "    - schedule_meeting: Schedule calendar meetings\n",
    "    - check_calendar_availability: Check available time slots\n",
    "    \n",
    "    Args:\n",
    "        state (dict): Current workflow state containing:\n",
    "            - messages: List of messages including any tool_calls from the LLM\n",
    "            \n",
    "    Returns:\n",
    "        dict: Updated state with tool execution results added as new messages\n",
    "            Each tool result includes:\n",
    "            - role: \"tool\"\n",
    "            - content: The tool's response\n",
    "            - tool_call_id: ID linking to the original tool call\n",
    "    \"\"\"\n",
    "\n",
    "    result = []\n",
    "    for tool_call in state[\"messages\"][-1].tool_calls:\n",
    "        tool = tools_by_name[tool_call[\"name\"]]\n",
    "        observation = tool.invoke(tool_call[\"args\"])\n",
    "        result.append(ToolMessage(content=observation, tool_call_id=tool_call[\"id\"]))\n",
    "    return {\"messages\": result}\n",
    "\n",
    "# Conditional edge function to route to the tool node or end based upon whether the LLM made a tool call\n",
    "def should_continue(state: State) -> Literal[\"environment\", END]:\n",
    "    \"\"\"Decide if we should continue the loop or stop based upon whether the LLM made a tool call.\n",
    "    \n",
    "    This function examines the last message in the state to determine if the LLM requested\n",
    "    any tool calls. If it did, the workflow should continue to the environment node to\n",
    "    execute those tools. If not, the workflow should end as the LLM has provided a direct\n",
    "    response to the user.\n",
    "    \n",
    "    Args:\n",
    "        state (State): Current workflow state containing:\n",
    "            - messages: List of messages, where the last message may contain tool_calls\n",
    "            \n",
    "    Returns:\n",
    "        Literal[\"environment\", END]: \n",
    "            - \"environment\": If the LLM made a tool call and we should continue processing\n",
    "            - END: If no tool calls were made and we should end the workflow\n",
    "    \"\"\"\n",
    "\n",
    "    messages = state[\"messages\"]\n",
    "    last_message = messages[-1]\n",
    "    # If the LLM makes a tool call, then perform an action\n",
    "    if last_message.tool_calls:\n",
    "        return \"Action\"\n",
    "    # Otherwise, we stop (reply to the user)\n",
    "    return END\n",
    "\n",
    "def route_after_triage(state: State) -> Literal[\"respond\", \"ignore\", \"notify\"]:\n",
    "    \"\"\"Determine next step based on email classification.\n",
    "    \n",
    "    Args:\n",
    "        state (State): Contains the triage classification\n",
    "            \n",
    "    Returns:\n",
    "        str: Next step in the workflow\n",
    "    \"\"\"\n",
    "    classification = state[\"routing_decision\"]\n",
    "    if classification == \"respond\":\n",
    "        print(\"📧 Classification: RESPOND - This email requires a response\")\n",
    "        return \"respond\"\n",
    "    elif classification == \"ignore\":\n",
    "        print(\"🚫 Classification: IGNORE - This email can be safely ignored\")\n",
    "        return \"ignore\"\n",
    "    elif classification == \"notify\":\n",
    "        print(\"🔔 Classification: NOTIFY - This email contains important information\")\n",
    "        return \"notify\"\n",
    "    else:\n",
    "        raise ValueError(f\"Invalid classification: {classification}\")\n",
    "\n",
    "# Build workflow\n",
    "agent_builder = StateGraph(State)\n",
    "\n",
    "# Add nodes\n",
    "agent_builder.add_node(\"llm_call\", llm_call)\n",
    "agent_builder.add_node(\"triage_router\", triage_router)\n",
    "agent_builder.add_node(\"environment\", tool_node)\n",
    "\n",
    "# Add edges to connect nodes\n",
    "agent_builder.add_edge(START, \"triage_router\")\n",
    "agent_builder.add_conditional_edges(\"triage_router\", route_after_triage, {\n",
    "    \"respond\": \"llm_call\",\n",
    "    \"ignore\": END,\n",
    "    \"notify\": END,\n",
    "})\n",
    "agent_builder.add_conditional_edges(\n",
    "    \"llm_call\",\n",
    "    should_continue,\n",
    "    {\n",
    "        # Name returned by should_continue : Name of next node to visit\n",
    "        \"Action\": \"environment\",\n",
    "        END: END,\n",
    "    },\n",
    ")\n",
    "agent_builder.add_edge(\"environment\", \"llm_call\")\n",
    "\n",
    "# Compile the agent\n",
    "agent = agent_builder.compile()\n",
    "\n",
    "# Show the agent\n",
    "display(Image(agent.get_graph(xray=True).draw_mermaid_png()))\n"
   ]
  },
  {
   "cell_type": "code",
   "execution_count": 59,
   "metadata": {},
   "outputs": [
    {
     "name": "stdout",
     "output_type": "stream",
     "text": [
      "🚫 Classification: IGNORE - This email can be safely ignored\n"
     ]
    }
   ],
   "source": [
    "email_input = {\n",
    "    \"author\": \"Marketing Team <marketing@amazingdeals.com>\",\n",
    "    \"to\": \"John Doe <john.doe@company.com>\",\n",
    "    \"subject\": \"🔥 EXCLUSIVE OFFER: Limited Time Discount on Developer Tools! 🔥\",\n",
    "    \"email_thread\": \"\"\"Dear Valued Developer,\n",
    "\n",
    "Don't miss out on this INCREDIBLE opportunity! \n",
    "\n",
    "🚀 For a LIMITED TIME ONLY, get 80% OFF on our Premium Developer Suite! \n",
    "\n",
    "✨ FEATURES:\n",
    "- Revolutionary AI-powered code completion\n",
    "- Cloud-based development environment\n",
    "- 24/7 customer support\n",
    "- And much more!\n",
    "\n",
    "💰 Regular Price: $999/month\n",
    "🎉 YOUR SPECIAL PRICE: Just $199/month!\n",
    "\n",
    "🕒 Hurry! This offer expires in:\n",
    "24 HOURS ONLY!\n",
    "\n",
    "Click here to claim your discount: https://amazingdeals.com/special-offer\n",
    "\n",
    "Best regards,\n",
    "Marketing Team\n",
    "---\n",
    "To unsubscribe, click here\n",
    "\"\"\"\n",
    "}\n",
    "\n",
    "response = agent.invoke({\"email_input\": email_input})"
   ]
  },
  {
   "cell_type": "code",
   "execution_count": 60,
   "metadata": {},
   "outputs": [
    {
     "name": "stdout",
     "output_type": "stream",
     "text": [
      "📧 Classification: RESPOND - This email requires a response\n",
      "================================\u001b[1m Human Message \u001b[0m=================================\n",
      "\n",
      "Respond to the email {'author': 'Alice Smith <alice.smith@company.com>', 'to': 'John Doe <john.doe@company.com>', 'subject': 'Quick question about API documentation', 'email_thread': \"Hi John,\\n\\nI was reviewing the API documentation for the new authentication service and noticed a few endpoints seem to be missing from the specs. Could you help clarify if this was intentional or if we should update the docs?\\n\\nSpecifically, I'm looking at:\\n- /auth/refresh\\n- /auth/validate\\n\\nThanks!\\nAlice\"}\n",
      "==================================\u001b[1m Ai Message \u001b[0m==================================\n",
      "\n",
      "[{'citations': None, 'text': \"I'll help draft a response to Alice regarding her question about the API documentation. I'll use the write_email function to send a professional acknowledgment and let her know John will look into this.\", 'type': 'text'}, {'id': 'toolu_01BabQWXFAbuZjg2BtuTcv7i', 'input': {'to': 'alice.smith@company.com', 'subject': 'Re: Quick question about API documentation', 'content': \"Hi Alice,\\n\\nThank you for bringing this to John's attention regarding the missing endpoints in the API documentation. I'm John's assistant, and I've made note of your inquiry about the /auth/refresh and /auth/validate endpoints.\\n\\nI'll make sure John reviews this and gets back to you with clarification about whether these endpoints should be included in the documentation.\\n\\nBest regards,\\nJohn's Assistant\"}, 'name': 'write_email', 'type': 'tool_use'}]\n",
      "Tool Calls:\n",
      "  write_email (toolu_01BabQWXFAbuZjg2BtuTcv7i)\n",
      " Call ID: toolu_01BabQWXFAbuZjg2BtuTcv7i\n",
      "  Args:\n",
      "    to: alice.smith@company.com\n",
      "    subject: Re: Quick question about API documentation\n",
      "    content: Hi Alice,\n",
      "\n",
      "Thank you for bringing this to John's attention regarding the missing endpoints in the API documentation. I'm John's assistant, and I've made note of your inquiry about the /auth/refresh and /auth/validate endpoints.\n",
      "\n",
      "I'll make sure John reviews this and gets back to you with clarification about whether these endpoints should be included in the documentation.\n",
      "\n",
      "Best regards,\n",
      "John's Assistant\n",
      "=================================\u001b[1m Tool Message \u001b[0m=================================\n",
      "\n",
      "Email sent to alice.smith@company.com with subject 'Re: Quick question about API documentation'\n",
      "==================================\u001b[1m Ai Message \u001b[0m==================================\n",
      "\n",
      "I've sent a professional acknowledgment email to Alice that:\n",
      "1. Acknowledges receipt of her question\n",
      "2. Shows we understand the specific endpoints she's asking about\n",
      "3. Assures her that John will review and respond\n",
      "4. Sets appropriate expectations for follow-up\n",
      "\n",
      "This allows us to keep the communication channel open while giving John time to review the API documentation and provide a detailed response about these specific endpoints.\n"
     ]
    }
   ],
   "source": [
    "email_input = {\n",
    "    \"author\": \"Alice Smith <alice.smith@company.com>\",\n",
    "    \"to\": \"John Doe <john.doe@company.com>\",\n",
    "    \"subject\": \"Quick question about API documentation\",\n",
    "    \"email_thread\": \"\"\"Hi John,\n",
    "\n",
    "I was reviewing the API documentation for the new authentication service and noticed a few endpoints seem to be missing from the specs. Could you help clarify if this was intentional or if we should update the docs?\n",
    "\n",
    "Specifically, I'm looking at:\n",
    "- /auth/refresh\n",
    "- /auth/validate\n",
    "\n",
    "Thanks!\n",
    "Alice\"\"\"\n",
    "}\n",
    "\n",
    "response = agent.invoke({\"email_input\": email_input})\n",
    "for m in response[\"messages\"]:\n",
    "    m.pretty_print()"
   ]
  },
  {
   "cell_type": "code",
   "execution_count": 14,
   "metadata": {},
   "outputs": [],
   "source": []
  }
 ],
 "metadata": {
  "kernelspec": {
   "display_name": "memory-course-env",
   "language": "python",
   "name": "python3"
  },
  "language_info": {
   "codemirror_mode": {
    "name": "ipython",
    "version": 3
   },
   "file_extension": ".py",
   "mimetype": "text/x-python",
   "name": "python",
   "nbconvert_exporter": "python",
   "pygments_lexer": "ipython3",
   "version": "3.13.1"
  }
 },
 "nbformat": 4,
 "nbformat_minor": 2
}

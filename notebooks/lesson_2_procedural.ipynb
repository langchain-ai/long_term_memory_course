{
 "cells": [
  {
   "cell_type": "code",
   "execution_count": null,
   "metadata": {
    "vscode": {
     "languageId": "shellscript"
    }
   },
   "outputs": [],
   "source": [
    "! pip install langchain-anthropic langgraph"
   ]
  },
  {
   "cell_type": "code",
   "execution_count": 1,
   "metadata": {},
   "outputs": [],
   "source": [
    "import os, getpass\n",
    "\n",
    "def _set_env(var: str):\n",
    "    if not os.environ.get(var):\n",
    "        os.environ[var] = getpass.getpass(f\"{var}: \")\n",
    "\n",
    "_set_env(\"ANTHROPIC_API_KEY\")"
   ]
  },
  {
   "cell_type": "markdown",
   "metadata": {},
   "source": [
    "## Instructions\n",
    "\n",
    "You can think of this as \"procedural\" memory. \n",
    "\n",
    "These are the instructions that the LLM will follow to extract memories from the journal entry.\n",
    "\n",
    "First, we define a general schema for any memory.\n",
    "\n",
    "The schema has a `memory_type` and a `memory_content`.\n",
    "\n",
    "![](./img/memory_course_procedural.png)\n"
   ]
  },
  {
   "cell_type": "code",
   "execution_count": 3,
   "metadata": {},
   "outputs": [],
   "source": [
    "from typing import List\n",
    "from pydantic import BaseModel, Field\n",
    "from langchain_anthropic import ChatAnthropic\n",
    "\n",
    "# Schema for a memory\n",
    "class Memory(BaseModel):\n",
    "    memory_type: str = Field(None, description=\"Type of memory to extract.\")\n",
    "    memory_content: str = Field(None, description=\"Specific content of the memory.\")\n",
    "\n",
    "# List of memories \n",
    "class Memories(BaseModel):\n",
    "    memories: List[Memory] = Field(None, description=\"List of memories to extract.\")\n",
    "\n",
    "# Define and augment LLM with structured output\n",
    "llm = ChatAnthropic(model=\"claude-3-5-sonnet-latest\")\n",
    "structured_llm = llm.with_structured_output(Memories)"
   ]
  },
  {
   "cell_type": "markdown",
   "metadata": {},
   "source": [
    "Now let's load our instructions for memory extraction."
   ]
  },
  {
   "cell_type": "code",
   "execution_count": 14,
   "metadata": {},
   "outputs": [],
   "source": [
    "import sys\n",
    "sys.path.append('..')\n",
    "import src.memory_course.prompts\n",
    "\n",
    "# Reload the module in case any changes were made\n",
    "import importlib\n",
    "importlib.reload(src.memory_course.prompts)\n",
    "\n",
    "# Then import the instructions \n",
    "from src.memory_course.prompts import memory_collection_extraction_instructions, update_memory_collection_extraction_instructions"
   ]
  },
  {
   "cell_type": "markdown",
   "metadata": {},
   "source": [
    "Now, we want to store these in a way that our application can easily access to modify them. \n",
    " \n",
    "The [LangGraph store](https://docs.langchain.com/docs/components/store/memory) is a simple key-value store that we can use for long-term storage. \n",
    "\n",
    "We get it for \"free\" with any LangGraph deployment (local or hosted)."
   ]
  },
  {
   "cell_type": "code",
   "execution_count": 15,
   "metadata": {},
   "outputs": [],
   "source": [
    "# Save instructions to the store\n",
    "from langgraph.store.memory import InMemoryStore\n",
    "in_memory_store = InMemoryStore()\n",
    "namespace = (\"journal\",\"instructions\")\n",
    "key = \"instructions_extraction\"\n",
    "in_memory_store.put(namespace, key, {\"instructions\": memory_collection_extraction_instructions})"
   ]
  },
  {
   "cell_type": "markdown",
   "metadata": {},
   "source": [
    "Now, we can create a function that will extract memories from a journal entry."
   ]
  },
  {
   "cell_type": "code",
   "execution_count": 16,
   "metadata": {},
   "outputs": [],
   "source": [
    "from langchain_core.messages import HumanMessage, SystemMessage\n",
    "\n",
    "def extract_memories(journal_entry: str) -> Memories:\n",
    "    \"\"\"Extract memories from a journal entry.\n",
    "    \n",
    "    This function analyzes a journal entry and extracts memories\n",
    "    \n",
    "    Args:\n",
    "        journal_entry (str): The text of the journal entry to analyze\n",
    "        \n",
    "    Returns:\n",
    "        Memories (list): A structured list of Memory objects\"\"\"\n",
    "\n",
    "    # Get the instructions from the store\n",
    "    namespace = (\"journal\",\"instructions\")\n",
    "    key = \"instructions_extraction\"\n",
    "    procedural_memory = in_memory_store.get(namespace, key)\n",
    "\n",
    "    # Extract memories\n",
    "    memories = structured_llm.invoke([SystemMessage(content=procedural_memory.value['instructions']),\n",
    "                                      HumanMessage(content=f\"Extract memory from <context> {journal_entry} </context>\")])\n",
    "    \n",
    "    return memories"
   ]
  },
  {
   "cell_type": "markdown",
   "metadata": {},
   "source": [
    "Now, we can test extraction from a fake journal entry.\n"
   ]
  },
  {
   "cell_type": "code",
   "execution_count": 7,
   "metadata": {},
   "outputs": [
    {
     "name": "stdout",
     "output_type": "stream",
     "text": [
      "=== Extracted Memory ===\n",
      "\n",
      "SENTIMENT:\n",
      "- Mixed emotions with overall optimistic tone. Started energized, experienced afternoon overwhelm with deadlines, but ended positively about team progress. Key phrases: 'energized', 'overwhelmed', 'optimistic', 'team's coming together'.\n",
      "\n",
      "=== Extracted Memory ===\n",
      "\n",
      "TODO:\n",
      "- Email Sarah about the client presentation (Deadline: Thursday)\n",
      "\n",
      "=== Extracted Memory ===\n",
      "\n",
      "TODO:\n",
      "- Schedule dentist appointment\n",
      "\n",
      "=== Extracted Memory ===\n",
      "\n",
      "TODO:\n",
      "- Pick up groceries for weekend dinner party\n",
      "\n",
      "=== Extracted Memory ===\n",
      "\n",
      "IDEA:\n",
      "- Implement AI in customer feedback system for automated initial response and categorization. Required: Research existing solutions first.\n",
      "\n"
     ]
    }
   ],
   "source": [
    "journal_entry = \"\"\"\n",
    "Today was a mix of ups and downs. Started the morning feeling energized after my new morning routine, but got a bit overwhelmed with the project deadlines in the afternoon. \n",
    "\n",
    "Need to remember to:\n",
    "- Email Sarah about the client presentation by Thursday\n",
    "- Schedule dentist appointment\n",
    "- Pick up groceries for weekend dinner party\n",
    "\n",
    "Had an interesting thought during my walk - what if we incorporated AI into our customer feedback system? Could potentially automate the initial response and categorization. Would need to research existing solutions first.\n",
    "\n",
    "Despite the stress, I'm optimistic about where things are heading. The team's really coming together on the new initiative.\"\"\"\n",
    "\n",
    "# Run extraction\n",
    "memories = extract_memories(journal_entry)\n",
    "\n",
    "# Review\n",
    "for memory in memories.memories:\n",
    "    print(\"=== Extracted Memory ===\")\n",
    "    print(f\"\\n{memory.memory_type.upper()}:\")\n",
    "    print(f\"- {memory.memory_content}\\n\")\n"
   ]
  },
  {
   "cell_type": "markdown",
   "metadata": {},
   "source": [
    "In a journal, we want the ability to update instructions directly based upon user feedback. \n",
    "\n",
    "For example, above notice that we create `IDEA:` memories with a `Required` prerequisite:\n",
    "\n",
    "```\n",
    "IDEA:\n",
    "- Implement AI in customer feedback system for automated initial response and categorization. Required: Research existing solutions first.\n",
    "```\n",
    "\n",
    "Let's assume that we don't want this.\n",
    "\n",
    "We can easily udpate our instructions, simply by fetching the current instructions from the store and updating them."
   ]
  },
  {
   "cell_type": "code",
   "execution_count": 10,
   "metadata": {},
   "outputs": [],
   "source": [
    "# Function for updating the instructions\n",
    "def update_extract_memories_instructions(user_feedback: str) -> str:\n",
    "    \"\"\"Update instructions for memory extraction based on user feedback.\n",
    "        \n",
    "    Args:\n",
    "        user_feedback (str): User feedback about the memory extraction process\n",
    "        \n",
    "    Returns:\n",
    "        None\"\"\"\n",
    "\n",
    "    # Get the current instructions\n",
    "    namespace = (\"journal\",\"instructions\")\n",
    "    key = \"instructions_extraction\"\n",
    "    instructions = in_memory_store.get(namespace, key)\n",
    "\n",
    "    # Extract memories\n",
    "    updated_instructions = llm.invoke([SystemMessage(content=update_memory_collection_extraction_instructions.format(instructions=instructions.value['instructions'])),\n",
    "                                            HumanMessage(content=f\"<Feedback> {user_feedback} </Feedback>\")])\n",
    "    \n",
    "    # Add the new instructions to the store\n",
    "    in_memory_store.put(namespace, key, {\"instructions\": updated_instructions.content})\n",
    "\n",
    "update_extract_memories_instructions(\"\"\"When saving ideas dont include Required or Prerequisites.\"\"\")"
   ]
  },
  {
   "cell_type": "code",
   "execution_count": 11,
   "metadata": {},
   "outputs": [
    {
     "name": "stdout",
     "output_type": "stream",
     "text": [
      "=== Extracted Memory ===\n",
      "\n",
      "SENTIMENT:\n",
      "- Mixed emotions with overall optimistic tone. Started energized, experienced afternoon overwhelm/stress, ended with positive outlook. Key phrases: 'feeling energized', 'got overwhelmed', 'optimistic about where things are heading'. Notable positive mention of team cohesion.\n",
      "\n",
      "=== Extracted Memory ===\n",
      "\n",
      "TODO:\n",
      "- Email Sarah about client presentation - Due Thursday\n",
      "\n",
      "=== Extracted Memory ===\n",
      "\n",
      "TODO:\n",
      "- Schedule dentist appointment\n",
      "\n",
      "=== Extracted Memory ===\n",
      "\n",
      "TODO:\n",
      "- Pick up groceries for weekend dinner party\n",
      "\n",
      "=== Extracted Memory ===\n",
      "\n",
      "IDEA:\n",
      "- Integrate AI into customer feedback system to automate initial response and categorization\n",
      "\n"
     ]
    }
   ],
   "source": [
    "# Run extraction\n",
    "memories = extract_memories(journal_entry)\n",
    "\n",
    "# Review\n",
    "for memory in memories.memories:\n",
    "    print(\"=== Extracted Memory ===\")\n",
    "    print(f\"\\n{memory.memory_type.upper()}:\")\n",
    "    print(f\"- {memory.memory_content}\\n\")"
   ]
  },
  {
   "cell_type": "markdown",
   "metadata": {},
   "source": [
    "We ca see that the `Required` prerequisite is no longer present:\n",
    "\n",
    "```\n",
    "IDEA:\n",
    "- Integrate AI into customer feedback system to automate initial response and categorization\n",
    "````\n",
    "\n",
    "We can see that this is because the instructions were updated:"
   ]
  },
  {
   "cell_type": "code",
   "execution_count": 13,
   "metadata": {},
   "outputs": [
    {
     "data": {
      "text/plain": [
       "'<Instructions>\\nGiven a journal entry, analyze and extract the following elements:\\n\\n1. SENTIMENT:\\n   - Identify the overall emotional tone (positive, negative, neutral)\\n   - Note any significant emotional shifts or patterns\\n   - Extract key emotional words or phrases\\n   Output as a single memory with memory_type \"SENTIMENT\"\\n\\n2. TODOS:\\n   - Extract each task, action, or commitment as a SEPARATE memory\\n   - Each TODO should be its own Memory object with memory_type \"TODO\"\\n   - Include deadline in the memory_content if mentioned\\n   - Format each todo concisely and clearly\\n\\n3. IDEAS:\\n   - Extract each creative thought, insight, or potential project as a SEPARATE memory\\n   - Each idea should be its own Memory object with memory_type \"IDEA\"\\n   - Keep each idea focused and specific\\n   - Include only the core concept and relevant details, without listing requirements or prerequisites\\n\\nImportant: Create a new Memory object for EACH individual todo and idea. Do not combine multiple todos or ideas into a single memory.\\n</Instructions>'"
      ]
     },
     "execution_count": 13,
     "metadata": {},
     "output_type": "execute_result"
    }
   ],
   "source": [
    "# Get the current instructions\n",
    "procedural_memory = in_memory_store.get(namespace, key)\n",
    "procedural_memory.value['instructions']"
   ]
  },
  {
   "cell_type": "markdown",
   "metadata": {},
   "source": [
    "So now we can:\n",
    "\n",
    "1. Extract memories from a journal entry given a set of instructions (system message)\n",
    "2. Update those instructions based upon user feedback directly \n",
    "\n",
    "This is a simple example of using and editing \"procedural memory\". \n",
    "\n",
    "In the next lesson, we will look at how to add in \"episodic memory\" or few-shot-example to improve the quality of the extraction."
   ]
  }
 ],
 "metadata": {
  "kernelspec": {
   "display_name": "memory-course-env",
   "language": "python",
   "name": "python3"
  },
  "language_info": {
   "codemirror_mode": {
    "name": "ipython",
    "version": 3
   },
   "file_extension": ".py",
   "mimetype": "text/x-python",
   "name": "python",
   "nbconvert_exporter": "python",
   "pygments_lexer": "ipython3",
   "version": "3.13.1"
  }
 },
 "nbformat": 4,
 "nbformat_minor": 2
}

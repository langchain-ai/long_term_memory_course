{
 "cells": [
  {
   "cell_type": "code",
   "execution_count": null,
   "metadata": {
    "vscode": {
     "languageId": "shellscript"
    }
   },
   "outputs": [],
   "source": [
    "! pip install langchain-anthropic langgraph"
   ]
  },
  {
   "cell_type": "code",
   "execution_count": null,
   "metadata": {},
   "outputs": [],
   "source": [
    "import os, getpass\n",
    "\n",
    "def _set_env(var: str):\n",
    "    if not os.environ.get(var):\n",
    "        os.environ[var] = getpass.getpass(f\"{var}: \")\n",
    "\n",
    "_set_env(\"ANTHROPIC_API_KEY\")"
   ]
  },
  {
   "cell_type": "markdown",
   "metadata": {},
   "source": [
    "## Few Shot Examples\n",
    "\n",
    "You can think of this as \"episodic\" memory. \n",
    "\n",
    "These are the examples that the LLM can use to help it extract memories correctly.\n",
    "\n",
    "Let's build on what we did in the previous lesson.\n",
    "\n",
    "First, we define a general schema for any memory.\n",
    "\n",
    "The schema has a `memory_type` and a `memory_content`.\n",
    "\n",
    "![](./img/memory_course_episodic.png)\n",
    "\n"
   ]
  },
  {
   "cell_type": "code",
   "execution_count": 37,
   "metadata": {},
   "outputs": [],
   "source": [
    "from pydantic import BaseModel, Field\n",
    "from typing import List\n",
    "from langchain_anthropic import ChatAnthropic\n",
    "\n",
    "# Schema for structured output\n",
    "class Memory(BaseModel):\n",
    "    memory_type: str = Field(None, description=\"Type of memory to extract.\")\n",
    "    memory_content: str = Field(None, description=\"Specific content of the memory.\")\n",
    "\n",
    "class Memories(BaseModel):\n",
    "    memories: List[Memory] = Field(None, description=\"List of memories to extract.\")\n",
    "\n",
    "# Define and augment LLM with structured output\n",
    "llm = ChatAnthropic(model=\"claude-3-5-sonnet-latest\")\n",
    "structured_llm = llm.with_structured_output(Memories)"
   ]
  },
  {
   "cell_type": "markdown",
   "metadata": {},
   "source": [
    "Now let's load our instructions for memory extraction, as we did before.\n",
    "\n",
    "But, we'll also load some examples that explain how to extract memories correctly."
   ]
  },
  {
   "cell_type": "code",
   "execution_count": 38,
   "metadata": {},
   "outputs": [],
   "source": [
    "import sys\n",
    "sys.path.append('..')\n",
    "import src.memory_course.prompts\n",
    "import src.memory_course.examples\n",
    "import src.memory_course.utils\n",
    "\n",
    "# Reload the module in case any changes were made\n",
    "import importlib\n",
    "importlib.reload(src.memory_course.prompts)\n",
    "importlib.reload(src.memory_course.examples)\n",
    "importlib.reload(src.memory_course.utils)\n",
    "\n",
    "# Then import the instructions and examples\n",
    "from src.memory_course.utils import format_few_shot_examples\n",
    "from src.memory_course.examples import example_input, example_output\n",
    "from src.memory_course.prompts import memory_collection_extraction_instructions, update_few_shot_examples_instructions, collection_extraction_input"
   ]
  },
  {
   "cell_type": "markdown",
   "metadata": {},
   "source": [
    "As before, we'll use the store to store our instructions and examples."
   ]
  },
  {
   "cell_type": "code",
   "execution_count": 39,
   "metadata": {},
   "outputs": [],
   "source": [
    "# Save instructions to the store\n",
    "from datetime import datetime\n",
    "from langgraph.store.memory import InMemoryStore\n",
    "\n",
    "in_memory_store = InMemoryStore()\n",
    "namespace = (\"journal\",\"instructions\")\n",
    "key = \"instructions_extraction\"\n",
    "in_memory_store.put(namespace, key, {\"instructions\": memory_collection_extraction_instructions})\n",
    "\n",
    "namespace = (\"journal\",\"examples\")\n",
    "key = f\"example_{datetime.now().strftime('%Y%m%d_%H%M%S')}\"\n",
    "in_memory_store.put(namespace, key, {\"input\": example_input, \"output\": example_output})"
   ]
  },
  {
   "cell_type": "markdown",
   "metadata": {},
   "source": [
    "We can now fetch examples from the store."
   ]
  },
  {
   "cell_type": "code",
   "execution_count": 40,
   "metadata": {},
   "outputs": [
    {
     "data": {
      "text/plain": [
       "'Input:\\n\\nToday was a mix of ups and downs. Started the morning feeling energized after my new morning routine, but got a bit overwhelmed with the project deadlines in the afternoon. \\n\\nNeed to remember to:\\n- Email Sarah about the client presentation by Thursday\\n- Schedule dentist appointment\\n- Pick up groceries for weekend dinner party\\n\\nHad an interesting thought during my walk - what if we incorporated AI into our customer feedback system? Could potentially automate the initial response and categorization. Would need to research existing solutions first.\\n\\nDespite the stress, I\\'m optimistic about where things are heading. The team\\'s really coming together on the new initiative.\\n\\nOutput:\\n\\n{\\n    \"memories\": [\\n        {\\n            \"memory_type\": \"SENTIMENT\",\\n            \"memory_content\": \"Mixed emotions with overall optimistic tone. Started energized, experienced afternoon overwhelm with deadlines, but ended positively about team progress. Key phrases: \\'energized\\', \\'overwhelmed\\', \\'optimistic\\', \\'team\\'s coming together\\'\"\\n        },\\n        {\\n            \"memory_type\": \"TODO\",\\n            \"memory_content\": \"Email Sarah about the client presentation (Deadline: Thursday)\"\\n        },\\n        {\\n            \"memory_type\": \"TODO\",\\n            \"memory_content\": \"Schedule dentist appointment\"\\n        },\\n        {\\n            \"memory_type\": \"TODO\",\\n            \"memory_content\": \"Pick up groceries for weekend dinner party\"\\n        },\\n        {\\n            \"memory_type\": \"IDEA\",\\n            \"memory_content\": \"Integrate AI into customer feedback system to automate initial response and categorization.\"\\n        }\\n    ]\\n}\\n'"
      ]
     },
     "execution_count": 40,
     "metadata": {},
     "output_type": "execute_result"
    }
   ],
   "source": [
    "from src.memory_course.utils import format_few_shot_examples\n",
    "few_shot_examples = in_memory_store.search((\"journal\", \"examples\"))\n",
    "\n",
    "# Format the examples for the LLM\n",
    "episodic_memory_formatted = format_few_shot_examples(few_shot_examples)\n",
    "episodic_memory_formatted"
   ]
  },
  {
   "cell_type": "markdown",
   "metadata": {},
   "source": [
    "As before, we define a function to extract memories from a journal entry that uses both instruction and few shot examples."
   ]
  },
  {
   "cell_type": "code",
   "execution_count": 41,
   "metadata": {},
   "outputs": [],
   "source": [
    "from langchain_core.messages import HumanMessage, SystemMessage\n",
    "\n",
    "def extract_memories(journal_entry: str) -> Memories:\n",
    "    \"\"\"Extract memories from a journal entry.\n",
    "    \n",
    "    This function analyzes a journal entry and extracts memories\n",
    "    \n",
    "    Args:\n",
    "        journal_entry (str): The text of the journal entry to analyze\n",
    "        \n",
    "    Returns:\n",
    "        Memories (list): A structured list of Memory objects\"\"\"\n",
    "\n",
    "    # Get the instructions from the store\n",
    "    namespace = (\"journal\",\"instructions\")\n",
    "    key = \"instructions_extraction\"\n",
    "    instructions = in_memory_store.get(namespace, key)\n",
    "\n",
    "    # Get the examples from the store\n",
    "    few_shot_examples = in_memory_store.search((\"journal\", \"examples\"))\n",
    "    few_shot_examples_formatted = format_few_shot_examples(few_shot_examples)\n",
    "\n",
    "    # Format the instructions\n",
    "    memory_extraction_instructions_formatted = collection_extraction_input.format(\n",
    "        procedural_memory_instructions=instructions.value['instructions'],\n",
    "        few_shot_examples_formatted=few_shot_examples_formatted\n",
    "    )\n",
    "\n",
    "    # Extract memories\n",
    "    memories = structured_llm.invoke([SystemMessage(content=memory_extraction_instructions_formatted),\n",
    "                                      HumanMessage(content=f\"Extract memory from <context> {journal_entry} </context>\")])\n",
    "    \n",
    "    return memories"
   ]
  },
  {
   "cell_type": "markdown",
   "metadata": {},
   "source": [
    "Now, we can test extraction from a fake journal entry."
   ]
  },
  {
   "cell_type": "code",
   "execution_count": 9,
   "metadata": {},
   "outputs": [
    {
     "name": "stdout",
     "output_type": "stream",
     "text": [
      "=== Extracted Memory ===\n",
      "\n",
      "SENTIMENT:\n",
      "- Overall positive and confident mood. Productive coding session and optimistic about sprint goals. Some minor challenges with database migrations but maintaining positive outlook. Key phrases: 'working better than expected', 'feeling pretty confident', 'showing positive results'\n",
      "\n",
      "=== Extracted Memory ===\n",
      "\n",
      "TODO:\n",
      "- Set up meeting with DevOps team about deployment strategy\n",
      "\n",
      "=== Extracted Memory ===\n",
      "\n",
      "TODO:\n",
      "- Fix unit tests for payment module - Deadline: Friday\n",
      "\n",
      "=== Extracted Memory ===\n",
      "\n",
      "TODO:\n",
      "- Order new laptop charger\n",
      "\n",
      "=== Extracted Memory ===\n",
      "\n",
      "TODO:\n",
      "- Update documentation for API changes\n",
      "\n",
      "=== Extracted Memory ===\n",
      "\n",
      "IDEA:\n",
      "- Implement automatic test generation using LLMs to reduce manual test writing time. Requirements: Need to evaluate cost and accuracy implications\n",
      "\n"
     ]
    }
   ],
   "source": [
    "# Test extraction of memories\n",
    "journal_entry = \"\"\"\n",
    "Really productive coding session this morning! The new refactoring approach is working better than expected, though I hit a few snags with the database migrations.\n",
    "\n",
    "Important tasks for this week:\n",
    "- Set up meeting with DevOps team about deployment strategy\n",
    "- Fix unit tests for the payment module by Friday\n",
    "- Order new laptop charger\n",
    "- Update documentation for API changes\n",
    "\n",
    "During the team standup, had a fascinating idea about improving our testing workflow. What if we implemented automatic test generation using LLMs? Could save hours of manual test writing. Would need to evaluate cost and accuracy first.\n",
    "\n",
    "Even though there's a lot on my plate, feeling pretty confident about the sprint goals. The recent architecture changes are already showing positive results.\"\"\"\n",
    "\n",
    "# Run extraction\n",
    "memories = extract_memories(journal_entry)\n",
    "\n",
    "# Review\n",
    "for memory in memories.memories:\n",
    "    print(\"=== Extracted Memory ===\")\n",
    "    print(f\"\\n{memory.memory_type.upper()}:\")\n",
    "    print(f\"- {memory.memory_content}\\n\")"
   ]
  },
  {
   "cell_type": "markdown",
   "metadata": {},
   "source": [
    "In a journal, we want the ability to update examples directly based upon user feedback. \n",
    "\n",
    "Let's look at the current examples.\n"
   ]
  },
  {
   "cell_type": "code",
   "execution_count": 28,
   "metadata": {},
   "outputs": [
    {
     "data": {
      "text/plain": [
       "'Input:\\n\\nToday was a mix of ups and downs. Started the morning feeling energized after my new morning routine, but got a bit overwhelmed with the project deadlines in the afternoon. \\n\\nNeed to remember to:\\n- Email Sarah about the client presentation by Thursday\\n- Schedule dentist appointment\\n- Pick up groceries for weekend dinner party\\n\\nHad an interesting thought during my walk - what if we incorporated AI into our customer feedback system? Could potentially automate the initial response and categorization. Would need to research existing solutions first.\\n\\nDespite the stress, I\\'m optimistic about where things are heading. The team\\'s really coming together on the new initiative.\\n\\nOutput:\\n\\n{\\n    \"memories\": [\\n        {\\n            \"memory_type\": \"SENTIMENT\",\\n            \"memory_content\": \"Mixed emotions with overall optimistic tone. Started energized, experienced afternoon overwhelm with deadlines, but ended positively about team progress. Key phrases: \\'energized\\', \\'overwhelmed\\', \\'optimistic\\', \\'team\\'s coming together\\'\"\\n        },\\n        {\\n            \"memory_type\": \"TODO\",\\n            \"memory_content\": \"Email Sarah about the client presentation (Deadline: Thursday)\"\\n        },\\n        {\\n            \"memory_type\": \"TODO\",\\n            \"memory_content\": \"Schedule dentist appointment\"\\n        },\\n        {\\n            \"memory_type\": \"TODO\",\\n            \"memory_content\": \"Pick up groceries for weekend dinner party\"\\n        },\\n        {\\n            \"memory_type\": \"IDEA\",\\n            \"memory_content\": \"Integrate AI into customer feedback system to automate initial response and categorization.\"\\n        }\\n    ]\\n}\\n'"
      ]
     },
     "execution_count": 28,
     "metadata": {},
     "output_type": "execute_result"
    }
   ],
   "source": [
    "# Get the examples from the store\n",
    "few_shot_examples = in_memory_store.search((\"journal\", \"examples\"))\n",
    "few_shot_examples_formatted = format_few_shot_examples(few_shot_examples)\n",
    "few_shot_examples_formatted"
   ]
  },
  {
   "cell_type": "code",
   "execution_count": 32,
   "metadata": {},
   "outputs": [],
   "source": [
    "# Schema for a example\n",
    "class Example(BaseModel):\n",
    "    example_input: str = Field(None, description=\"Input for the example.\")\n",
    "    example_output: str = Field(None, description=\"Output for the example.\")\n",
    "\n",
    "# List of examples \n",
    "class Examples(BaseModel):\n",
    "    examples: List[Example] = Field(None, description=\"List examples.\")"
   ]
  },
  {
   "cell_type": "code",
   "execution_count": 33,
   "metadata": {},
   "outputs": [],
   "source": [
    "# Function for updating the instructions\n",
    "def update_few_shot_examples(user_feedback: str) -> str:\n",
    "    \"\"\"Few shot examples can be updated based on user feedback.\n",
    "        \n",
    "    Args:\n",
    "        user_feedback (str): User feedback about the memory extraction process\n",
    "        \n",
    "    Returns:\n",
    "        None\"\"\"\n",
    "\n",
    "    # Get the examples from the store\n",
    "    namespace = (\"journal\",\"examples\")\n",
    "    few_shot_examples = in_memory_store.search(namespace)\n",
    "    few_shot_examples_formatted = format_few_shot_examples(few_shot_examples)\n",
    "\n",
    "    # Create new few shot examples from the user feedback\n",
    "    structured_llm = llm.with_structured_output(Examples)\n",
    "    updated_few_shot_examples = structured_llm.invoke([SystemMessage(content=update_few_shot_examples_instructions.format(current_examples=few_shot_examples_formatted)),\n",
    "                                            HumanMessage(content=f\"<Feedback> {user_feedback} </Feedback>\")])\n",
    "    \n",
    "    # Add the new few shot examples to the store\n",
    "    for example in updated_few_shot_examples.examples:\n",
    "        key = f\"example_{datetime.now().strftime('%Y%m%d_%H%M%S')}\"\n",
    "        in_memory_store.put(namespace, key, {\"input\": example.example_input, \"output\": example.example_output})\n",
    "\n",
    "update_few_shot_examples(\"If I talk about something 'interesting' related to work, then classify it and save it as an idea.\")\n"
   ]
  },
  {
   "cell_type": "code",
   "execution_count": 35,
   "metadata": {},
   "outputs": [
    {
     "data": {
      "text/plain": [
       "Item(namespace=['journal', 'examples'], key='example_20250203_133145', value={'input': 'Interesting insight from the sales meeting - our competitors are all moving towards subscription models.', 'output': '{\"memories\": [{\"memory_type\": \"IDEA\", \"memory_content\": \"Consider subscription model strategy in response to competitor market trends.\"}]}'}, created_at='2025-02-03T21:31:45.669267+00:00', updated_at='2025-02-03T21:31:45.669268+00:00', score=None)"
      ]
     },
     "execution_count": 35,
     "metadata": {},
     "output_type": "execute_result"
    }
   ],
   "source": [
    "# Get the examples from the store\n",
    "few_shot_examples = in_memory_store.search((\"journal\", \"examples\"))\n",
    "few_shot_examples[-1]"
   ]
  },
  {
   "cell_type": "markdown",
   "metadata": {},
   "source": [
    "So now we can:\n",
    "\n",
    "1. Extract memories from a journal entry given a set of instructions (system message)\n",
    "2. Update those instructions based upon user feedback directly \n",
    "3. Add few shot examples to improve the quality of the extraction\n",
    "4. Update those few shot examples based upon user feedback directly \n",
    "\n",
    "This is a simple example of using and editing both \"procedural memory\" and \"episodic memory\". \n",
    "\n",
    "In the next lesson, we will look at how how to save the extracted memories and retrieve them later. "
   ]
  },
  {
   "cell_type": "markdown",
   "metadata": {},
   "source": []
  }
 ],
 "metadata": {
  "kernelspec": {
   "display_name": "memory-course-env",
   "language": "python",
   "name": "python3"
  },
  "language_info": {
   "codemirror_mode": {
    "name": "ipython",
    "version": 3
   },
   "file_extension": ".py",
   "mimetype": "text/x-python",
   "name": "python",
   "nbconvert_exporter": "python",
   "pygments_lexer": "ipython3",
   "version": "3.13.1"
  }
 },
 "nbformat": 4,
 "nbformat_minor": 2
}

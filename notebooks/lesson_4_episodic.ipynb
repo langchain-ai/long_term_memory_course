{
 "cells": [
  {
   "cell_type": "markdown",
   "metadata": {
    "vscode": {
     "languageId": "shellscript"
    }
   },
   "source": [
    "## Lesson 4: Email Assistant with Semantic + Episodic Memory\n",
    "\n",
    "We previously built an email assistant that:\n",
    "- Classifies incoming messages (respond, ignore, notify)\n",
    "- Drafts responses\n",
    "- Schedules meetings\n",
    "- Uses memory to remember details from previous emails \n",
    "\n",
    "Now, we'll add human-in-the-loop following the triage step to better refine the assistant's ability to classify emails."
   ]
  },
  {
   "cell_type": "code",
   "execution_count": null,
   "metadata": {
    "vscode": {
     "languageId": "shellscript"
    }
   },
   "outputs": [],
   "source": [
    "%%capture stderr\n",
    "%pip install -e ..\n",
    "%pip install -U -q langchain-anthropic langgraph langchain langmem==0.0.5rc9"
   ]
  },
  {
   "cell_type": "code",
   "execution_count": 1,
   "metadata": {
    "vscode": {
     "languageId": "shellscript"
    }
   },
   "outputs": [],
   "source": [
    "import os\n",
    "from getpass import getpass\n",
    "\n",
    "if not os.environ.get(\"ANTHROPIC_API_KEY\"):\n",
    "    os.environ[\"ANTHROPIC_API_KEY\"] = getpass(\"ANTHROPIC_API_KEY: \")"
   ]
  },
  {
   "cell_type": "markdown",
   "metadata": {},
   "source": [
    "### Define Triage\n",
    "\n",
    "The triage step is the \"first line of defense\" against incoming emails. It helps the assistant determine if the email should be responded to, ignored, or notified."
   ]
  },
  {
   "cell_type": "code",
   "execution_count": 1,
   "metadata": {},
   "outputs": [],
   "source": [
    "from memory_course.schemas import Router\n",
    "from langchain.chat_models import init_chat_model\n",
    "from memory_course.prompts import triage_system_prompt, triage_user_prompt\n",
    "\n",
    "llm = init_chat_model(\"anthropic:claude-3-5-sonnet-latest\")\n",
    "\n",
    "# We'll use structured output to generate classification results\n",
    "llm_router = llm.with_structured_output(Router)\n"
   ]
  },
  {
   "cell_type": "markdown",
   "metadata": {},
   "source": [
    "### Define Tools\n",
    "\n",
    "Define tools that the agent can use. These are place-holder tools for the purpose of testing the LLM."
   ]
  },
  {
   "cell_type": "code",
   "execution_count": 2,
   "metadata": {},
   "outputs": [],
   "source": [
    "from langchain_core.tools import tool\n",
    "\n",
    "@tool\n",
    "def write_email(to: str, subject: str, content: str) -> str:\n",
    "    \"\"\"Write and send an email.\"\"\"\n",
    "    # Placeholder response - in real app would send email\n",
    "    return f\"Email sent to {to} with subject '{subject}'\"\n",
    "\n",
    "\n",
    "@tool\n",
    "def schedule_meeting(\n",
    "    attendees: list[str], subject: str, duration_minutes: int, preferred_day: str\n",
    ") -> str:\n",
    "    \"\"\"Schedule a calendar meeting.\"\"\"\n",
    "    # Placeholder response - in real app would check calendar and schedule\n",
    "    return f\"Meeting '{subject}' scheduled for {preferred_day} with {len(attendees)} attendees\"\n",
    "\n",
    "\n",
    "@tool\n",
    "def check_calendar_availability(day: str) -> str:\n",
    "    \"\"\"Check calendar availability for a given day.\"\"\"\n",
    "    # Placeholder response - in real app would check actual calendar\n",
    "    return f\"Available times on {day}: 9:00 AM, 2:00 PM, 4:00 PM\""
   ]
  },
  {
   "cell_type": "markdown",
   "metadata": {},
   "source": [
    "### Define Store"
   ]
  },
  {
   "cell_type": "code",
   "execution_count": 3,
   "metadata": {},
   "outputs": [],
   "source": [
    "# Example user profile\n",
    "example_user_profile = {\n",
    "    \"name\": \"John\",\n",
    "    \"full_name\": \"John Doe\",\n",
    "    \"user_profile_background\": \"Senior software engineer leading a team of 5 developers\",\n",
    "    \"triage_rules\": {\n",
    "        \"ignore\": \"Marketing newsletters, spam emails, mass company announcements\",\n",
    "        \"notify\": \"Team member out sick, build system notifications, project status updates\",\n",
    "        \"respond\": \"Direct questions from team members, meeting requests, critical bug reports\",\n",
    "    },\n",
    "}"
   ]
  },
  {
   "cell_type": "code",
   "execution_count": 5,
   "metadata": {},
   "outputs": [],
   "source": [
    "from langgraph.store.memory import InMemoryStore\n",
    "\n",
    "# Memory store\n",
    "store = InMemoryStore()\n",
    "\n",
    "# Save user profile\n",
    "user = \"lance\"\n",
    "namespace = (\"email_assistant\", user, \"user_profile\")\n",
    "key = \"user_profile\"\n",
    "store.put(namespace, key, example_user_profile)"
   ]
  },
  {
   "cell_type": "markdown",
   "metadata": {},
   "source": [
    "## Define agent"
   ]
  },
  {
   "cell_type": "code",
   "execution_count": 7,
   "metadata": {},
   "outputs": [],
   "source": [
    "# Create agent\n",
    "from memory_course.prompts import agent_system_prompt_semantic\n",
    "from langmem import create_manage_memory_tool, create_search_memory_tool\n",
    "from langgraph.prebuilt import create_react_agent\n",
    "\n",
    "# Get profile\n",
    "profile = store.get(namespace, key)\n",
    "\n",
    "# Format profile\n",
    "profile_data = profile.value\n",
    "format_data = {\n",
    "    **profile_data, # Include all individual fields (name, full_name, etc)\n",
    "    'profile': str(profile_data) # Add the full profile as a string\n",
    "}\n",
    "\n",
    "# Create agent\n",
    "response_agent = create_react_agent(\n",
    "    \"anthropic:claude-3-5-sonnet-latest\",\n",
    "    tools=[write_email, schedule_meeting, \n",
    "           check_calendar_availability, \n",
    "           create_manage_memory_tool(namespace=(\"email_assistant\", user, \"collection\")),\n",
    "           create_manage_memory_tool(namespace=(\"email_assistant\", user, \"user_profile\")),\n",
    "           create_search_memory_tool(namespace=(\"email_assistant\", user, \"collection\"))\n",
    "           ],\n",
    "    prompt=agent_system_prompt_semantic.format(**format_data),\n",
    ")"
   ]
  },
  {
   "cell_type": "markdown",
   "metadata": {},
   "source": [
    "### Build agent + triage workflow\n",
    "\n",
    "Combine triage with tool calling agent\n",
    "\n"
   ]
  },
  {
   "cell_type": "code",
   "execution_count": 14,
   "metadata": {},
   "outputs": [
    {
     "data": {
      "image/png": "[encoded data removed]",
      "text/plain": [
       "<IPython.core.display.Image object>"
      ]
     },
     "metadata": {},
     "output_type": "display_data"
    }
   ],
   "source": [
    "import uuid\n",
    "from langgraph.graph import StateGraph, START, END\n",
    "from langgraph.store.base import BaseStore\n",
    "from langgraph.types import Command\n",
    "from typing import Literal\n",
    "from IPython.display import Image, display\n",
    "from memory_course.schemas import State\n",
    "from memory_course.utils import parse_email\n",
    "\n",
    "def human_feedback(state: State, store: BaseStore) -> Command[Literal[\"response_agent\", \"__end__\"]]:\n",
    "    \"\"\" No-op node that should be interrupted on \"\"\"\n",
    "\n",
    "    # Check if human feedback is different from routing decision\n",
    "    if state.get(\"human_feedback\") and state[\"human_feedback\"] != state[\"routing_decision\"]:\n",
    "\n",
    "        # Save example\n",
    "        user = \"lance\" # TODO: from config \n",
    "        namespace = (\"email_assistant\", user, \"examples\")\n",
    "        key = f\"example_{uuid.uuid4()}\"\n",
    "        example = f\"\"\"Email: {state['email_input']}\n",
    "            Original routing: {state['routing_decision']}\n",
    "            Correct routing: {state['human_feedback']}\"\"\"\n",
    "        store.put(namespace, key, example)\n",
    "\n",
    "        # Set routing decision to correct value\n",
    "        state['routing_decision'] = state['human_feedback']\n",
    "\n",
    "    # Route\n",
    "    goto = \"__end__\"\n",
    "    update = None\n",
    "    if state['routing_decision'] == \"respond\":\n",
    "        print(\"📧 Classification: RESPOND - This email requires a response\")\n",
    "        goto = \"response_agent\"\n",
    "        update = {\n",
    "            \"messages\": [\n",
    "                {\n",
    "                    \"role\": \"user\",\n",
    "                    \"content\": f\"Respond to the email {state['email_input']}\",\n",
    "                }\n",
    "            ],\n",
    "        }\n",
    "    elif state['routing_decision'] == \"ignore\":\n",
    "        print(\"🚫 Classification: IGNORE - This email can be safely ignored\")\n",
    "\n",
    "    elif state['routing_decision'] == \"notify\":\n",
    "        print(\"🔔 Classification: NOTIFY - This email contains important information\")\n",
    "    else:\n",
    "        raise ValueError(f\"Invalid classification: {state['routing_decision']}\")\n",
    "\n",
    "    return Command(goto=goto, update=update)\n",
    "\n",
    "def triage_router(state: State, store: BaseStore) -> Command[\"human_feedback\"]:\n",
    "    \"\"\"Analyze email content to decide if we should respond, notify, or ignore.\n",
    "\n",
    "    The triage step prevents the assistant from wasting time on:\n",
    "    - Marketing emails and spam\n",
    "    - Company-wide announcements\n",
    "    - Messages meant for other teams\n",
    "    \"\"\"\n",
    "    author, to, subject, email_thread = parse_email(state[\"email_input\"])\n",
    "    \n",
    "    # Get profile from store\n",
    "    profile = store.get(namespace, key)\n",
    "    profile_data = profile.value\n",
    "\n",
    "    # Set examples\n",
    "    user = \"lance\" # TODO: from config \n",
    "    namespace = (\"email_assistant\", user, \"examples\")\n",
    "    examples = store.search(namespace) # TODO: Format these \n",
    "\n",
    "    author, to, subject, email_thread = parse_email(state[\"email_input\"])\n",
    "    system_prompt = triage_system_prompt.format(\n",
    "        full_name=profile_data[\"full_name\"],\n",
    "        name=profile_data[\"name\"],\n",
    "        user_profile_background=profile_data[\"user_profile_background\"],\n",
    "        triage_no=profile_data[\"triage_rules\"][\"ignore\"],\n",
    "        triage_notify=profile_data[\"triage_rules\"][\"notify\"],\n",
    "        triage_email=profile_data[\"triage_rules\"][\"respond\"],\n",
    "        examples=examples,\n",
    "    )\n",
    "\n",
    "    user_prompt = triage_user_prompt.format(\n",
    "        author=author, to=to, subject=subject, email_thread=email_thread\n",
    "    )\n",
    "\n",
    "    result = llm_router.invoke(\n",
    "        [\n",
    "            {\"role\": \"system\", \"content\": system_prompt},\n",
    "            {\"role\": \"user\", \"content\": user_prompt},\n",
    "        ]\n",
    "    )\n",
    "    \n",
    "    # Get feedback\n",
    "    return Command(goto=\"human_feedback\", update={\"routing_decision\" : result.classification})\n",
    "\n",
    "# Build workflow with store, as defined above\n",
    "agent = (\n",
    "    StateGraph(State)\n",
    "    .add_node(triage_router)\n",
    "    .add_node(\"response_agent\", response_agent)\n",
    "    .add_node(\"human_feedback\", human_feedback)\n",
    "    .add_edge(START, \"triage_router\")\n",
    "    .add_edge(\"triage_router\", \"human_feedback\")\n",
    "    .compile(store=store, interrupt_before=[\"human_feedback\"])\n",
    ")\n",
    "\n",
    "# Show the agent\n",
    "display(Image(agent.get_graph(xray=True).draw_mermaid_png()))"
   ]
  },
  {
   "cell_type": "code",
   "execution_count": null,
   "metadata": {},
   "outputs": [],
   "source": []
  }
 ],
 "metadata": {
  "kernelspec": {
   "display_name": "memory-course-env",
   "language": "python",
   "name": "python3"
  },
  "language_info": {
   "codemirror_mode": {
    "name": "ipython",
    "version": 3
   },
   "file_extension": ".py",
   "mimetype": "text/x-python",
   "name": "python",
   "nbconvert_exporter": "python",
   "pygments_lexer": "ipython3",
   "version": "3.13.1"
  }
 },
 "nbformat": 4,
 "nbformat_minor": 2
}

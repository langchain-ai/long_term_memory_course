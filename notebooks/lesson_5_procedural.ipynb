{
 "cells": [
  {
   "cell_type": "code",
   "execution_count": null,
   "metadata": {},
   "outputs": [],
   "source": [
    "! pip install langchain-anthropic langgraph"
   ]
  },
  {
   "cell_type": "code",
   "execution_count": 1,
   "metadata": {},
   "outputs": [],
   "source": [
    "import os, getpass\n",
    "\n",
    "def _set_env(var: str):\n",
    "    if not os.environ.get(var):\n",
    "        os.environ[var] = getpass.getpass(f\"{var}: \")\n",
    "\n",
    "_set_env(\"ANTHROPIC_API_KEY\")"
   ]
  },
  {
   "cell_type": "markdown",
   "metadata": {},
   "source": [
    "## Lesson 5: Email Assistant with Semantic + Episodic + Procedural Memory\n",
    "\n",
    "We previously built an email assistant that:\n",
    "- Classifies incoming messages (respond, ignore, notify)\n",
    "- Uses human-in-the-loop to refine the assistant's ability to classify emails\n",
    "- Drafts responses\n",
    "- Schedules meetings\n",
    "- Uses memory to remember details from previous emails \n",
    "\n",
    "Now, we'll add procedural memory that allows the user to update instructions for using the calendar and email writing tools. "
   ]
  },
  {
   "cell_type": "code",
   "execution_count": null,
   "metadata": {},
   "outputs": [],
   "source": [
    "%%capture stderr\n",
    "%pip install -e ..\n",
    "%pip install -U -q langchain-anthropic langgraph langchain langmem==0.0.5rc9"
   ]
  },
  {
   "cell_type": "code",
   "execution_count": 1,
   "metadata": {},
   "outputs": [],
   "source": [
    "import os\n",
    "from getpass import getpass\n",
    "\n",
    "if not os.environ.get(\"ANTHROPIC_API_KEY\"):\n",
    "    os.environ[\"ANTHROPIC_API_KEY\"] = getpass(\"ANTHROPIC_API_KEY: \")"
   ]
  },
  {
   "cell_type": "markdown",
   "metadata": {},
   "source": [
    "### Define Triage\n",
    "\n",
    "The triage step is the \"first line of defense\" against incoming emails. \n",
    "\n",
    "It helps the assistant determine if the email should be responded to, ignored, or notified."
   ]
  },
  {
   "cell_type": "code",
   "execution_count": 2,
   "metadata": {},
   "outputs": [],
   "source": [
    "from memory_course.schemas import Router\n",
    "from langchain.chat_models import init_chat_model\n",
    "from memory_course.prompts import triage_system_prompt, triage_user_prompt\n",
    "\n",
    "llm = init_chat_model(\"anthropic:claude-3-5-sonnet-latest\")\n",
    "\n",
    "# We'll use structured output to generate classification results\n",
    "llm_router = llm.with_structured_output(Router)\n"
   ]
  },
  {
   "cell_type": "markdown",
   "metadata": {},
   "source": [
    "### Define Tools\n",
    "\n",
    "Define tools that the agent can use. These are place-holder tools for the purpose of testing the LLM."
   ]
  },
  {
   "cell_type": "code",
   "execution_count": 3,
   "metadata": {},
   "outputs": [],
   "source": [
    "from langchain_core.tools import tool\n",
    "\n",
    "@tool\n",
    "def write_email(to: str, subject: str, content: str) -> str:\n",
    "    \"\"\"Write and send an email.\"\"\"\n",
    "    # Placeholder response - in real app would send email\n",
    "    return f\"Email sent to {to} with subject '{subject}'\"\n",
    "\n",
    "\n",
    "@tool\n",
    "def schedule_meeting(\n",
    "    attendees: list[str], subject: str, duration_minutes: int, preferred_day: str\n",
    ") -> str:\n",
    "    \"\"\"Schedule a calendar meeting.\"\"\"\n",
    "    # Placeholder response - in real app would check calendar and schedule\n",
    "    return f\"Meeting '{subject}' scheduled for {preferred_day} with {len(attendees)} attendees\"\n",
    "\n",
    "\n",
    "@tool\n",
    "def check_calendar_availability(day: str) -> str:\n",
    "    \"\"\"Check calendar availability for a given day.\"\"\"\n",
    "    # Placeholder response - in real app would check actual calendar\n",
    "    return f\"Available times on {day}: 9:00 AM, 2:00 PM, 4:00 PM\""
   ]
  },
  {
   "cell_type": "markdown",
   "metadata": {},
   "source": [
    "### Define Store\n",
    "\n",
    "We'll use this to store memories. "
   ]
  },
  {
   "cell_type": "code",
   "execution_count": 4,
   "metadata": {},
   "outputs": [],
   "source": [
    "# Example user profile\n",
    "example_user_profile = {\n",
    "    \"name\": \"John\",\n",
    "    \"full_name\": \"John Doe\",\n",
    "    \"user_profile_background\": \"Senior software engineer leading a team of 5 developers\",\n",
    "    \"triage_rules\": {\n",
    "        \"ignore\": \"Marketing newsletters, spam emails, mass company announcements\",\n",
    "        \"notify\": \"Team member out sick, build system notifications, project status updates\",\n",
    "        \"respond\": \"Direct questions from team members, meeting requests, critical bug reports\",\n",
    "    },\n",
    "}"
   ]
  },
  {
   "cell_type": "code",
   "execution_count": 5,
   "metadata": {},
   "outputs": [],
   "source": [
    "from langgraph.store.memory import InMemoryStore\n",
    "\n",
    "# Memory store\n",
    "store = InMemoryStore()\n",
    "\n",
    "# Save user profile\n",
    "user = \"lance\"\n",
    "namespace = (\"email_assistant\", user, \"user_profile\")\n",
    "key = \"user_profile\"\n",
    "store.put(namespace, key, example_user_profile)\n",
    "\n",
    "# Example instructions\n",
    "instructions = \"\"\"\n",
    "If updating the user profile, do not omit past information. Simply it with new information from the email that that fits within the profile schema.\n",
    "\"\"\"\n",
    "\n",
    "# Save instructions\n",
    "user = \"lance\"\n",
    "namespace = (\"email_assistant\", user, \"instructions\")\n",
    "key = \"user_instructions\"\n",
    "store.put(namespace, key, instructions)"
   ]
  },
  {
   "cell_type": "markdown",
   "metadata": {},
   "source": [
    "## Define agent"
   ]
  },
  {
   "cell_type": "code",
   "execution_count": 13,
   "metadata": {},
   "outputs": [
    {
     "name": "stdout",
     "output_type": "stream",
     "text": [
      "The autoreload extension is already loaded. To reload it, use:\n",
      "  %reload_ext autoreload\n"
     ]
    }
   ],
   "source": [
    "%load_ext autoreload\n",
    "%autoreload 2\n",
    "\n",
    "# Create agent\n",
    "from memory_course.prompts import agent_system_prompt_memory\n",
    "from langmem import create_manage_memory_tool, create_search_memory_tool\n",
    "from langgraph.prebuilt import create_react_agent\n",
    "\n",
    "# TODO: Hand system prompt updates as shown here:\n",
    "# https://langchain-ai.github.io/langmem/hot_path_quickstart/#agent\n",
    "\n",
    "# Get profile\n",
    "namespace = (\"email_assistant\", user, \"user_profile\")\n",
    "key = \"user_profile\"\n",
    "profile = store.get(namespace, key)\n",
    "\n",
    "# Format profile\n",
    "profile_data = profile.value\n",
    "format_data = {\n",
    "    **profile_data, # Include all individual fields (name, full_name, etc)\n",
    "    'profile': str(profile_data) # Add the full profile as a string\n",
    "}\n",
    "\n",
    "# TODO: We create a node directly from response_agent\n",
    "# But, we need response_agent to get information from the store\n",
    "# Specifically, we need the profile and the instructions\n",
    "# IIUC those will not get properly pulled into the node we create from response_agent?\n",
    "\n",
    "# Get instructions\n",
    "namespace = (\"email_assistant\", user, \"instructions\")\n",
    "key = \"user_instructions\"\n",
    "instructions = store.get(namespace, key)\n",
    "\n",
    "# Create agent\n",
    "response_agent = create_react_agent(\n",
    "    \"anthropic:claude-3-5-sonnet-latest\",\n",
    "    tools=[write_email, schedule_meeting, \n",
    "           check_calendar_availability, \n",
    "           # TODO: From below, it looks like these will all call \"manage_memory\" \n",
    "           # But, we need to call \"manage_memory\" with the namespace and key for each tool\n",
    "           # I'm not sure based on tool calling below that namespace is included?\n",
    "           create_manage_memory_tool(namespace=(\"email_assistant\", user, \"collection\")),\n",
    "           create_manage_memory_tool(namespace=(\"email_assistant\", user, \"user_profile\")),\n",
    "           create_search_memory_tool(namespace=(\"email_assistant\", user, \"collection\")),\n",
    "           create_manage_memory_tool(namespace=(\"email_assistant\", user, \"instructions\")),\n",
    "           ],\n",
    "    prompt=agent_system_prompt_memory.format(**format_data, instructions=instructions.value),\n",
    "    store=store\n",
    ")"
   ]
  },
  {
   "cell_type": "markdown",
   "metadata": {},
   "source": [
    "### Build agent + triage workflow\n",
    "\n",
    "Combine triage with tool calling agent\n",
    "\n"
   ]
  },
  {
   "cell_type": "code",
   "execution_count": 23,
   "metadata": {},
   "outputs": [
    {
     "data": {
      "image/png": "[encoded data removed]",
      "text/plain": [
       "<IPython.core.display.Image object>"
      ]
     },
     "metadata": {},
     "output_type": "display_data"
    }
   ],
   "source": [
    "import uuid\n",
    "from typing import Literal\n",
    "from IPython.display import Image, display\n",
    "\n",
    "from langchain_core.runnables import RunnableConfig\n",
    "\n",
    "from langgraph.checkpoint.memory import MemorySaver\n",
    "from langgraph.graph import StateGraph, START, END\n",
    "from langgraph.store.base import BaseStore\n",
    "from langgraph.types import interrupt, Command\n",
    "\n",
    "from memory_course.schemas import State\n",
    "from memory_course.utils import parse_email, format_few_shot_examples\n",
    "\n",
    "def triage_router(state: State, store: BaseStore, config: RunnableConfig) -> Command[Literal[\"response_agent\", \"__end__\"]]:\n",
    "    \"\"\"Analyze email content and route it based on classification with human feedback.\n",
    "\n",
    "    The triage step prevents the assistant from wasting time on:\n",
    "    - Marketing emails and spam\n",
    "    - Company-wide announcements  \n",
    "    - Messages meant for other teams\n",
    "\n",
    "    Args:\n",
    "        state (State): Current state object containing email_input\n",
    "        store (BaseStore): Memory store containing user profile and examples\n",
    "        config (RunnableConfig): Configuration containing user info\n",
    "\n",
    "    Returns:\n",
    "        Command: Routing command with either:\n",
    "            - goto=\"response_agent\" and update with messages for emails needing response\n",
    "            - goto=\"__end__\" for emails to ignore or notify about\n",
    "\n",
    "    The function:\n",
    "    1. Parses the email and retrieves user profile\n",
    "    2. Uses LLM to classify email as respond/ignore/notify\n",
    "    3. Gets human feedback on classification\n",
    "    4. Saves examples when human feedback differs from LLM\n",
    "    5. Routes email based on final classification\"\"\"\n",
    "   \n",
    "    print(\"--Triage Email--\")\n",
    "\n",
    "    # TODO: This just checks if messages are passed w/o an email\n",
    "    # This is a simple way to handle feedback, but wen can consider other options\n",
    "    if \"messages\" in state and not state.get(\"email_input\"):\n",
    "        return Command(goto=\"response_agent\", update=None)\n",
    "    \n",
    "    # Parse email\n",
    "    author, to, subject, email_thread = parse_email(state[\"email_input\"])\n",
    "    \n",
    "    # Get profile from store\n",
    "    user = config[\"configurable\"][\"user\"]\n",
    "    namespace = (\"email_assistant\", user, \"user_profile\")\n",
    "    key = \"user_profile\"\n",
    "    profile = store.get(namespace, key)\n",
    "    profile_data = profile.value\n",
    "\n",
    "    # Set examples\n",
    "    namespace = (\"email_assistant\", user, \"examples\")\n",
    "    examples = store.search(namespace) # TODO: Format these \n",
    "\n",
    "    author, to, subject, email_thread = parse_email(state[\"email_input\"])\n",
    "    system_prompt = triage_system_prompt.format(\n",
    "        full_name=profile_data[\"full_name\"],\n",
    "        name=profile_data[\"name\"],\n",
    "        user_profile_background=profile_data[\"user_profile_background\"],\n",
    "        triage_no=profile_data[\"triage_rules\"][\"ignore\"],\n",
    "        triage_notify=profile_data[\"triage_rules\"][\"notify\"],\n",
    "        triage_email=profile_data[\"triage_rules\"][\"respond\"],\n",
    "        examples=format_few_shot_examples(examples),\n",
    "    )\n",
    "\n",
    "    user_prompt = triage_user_prompt.format(\n",
    "        author=author, to=to, subject=subject, email_thread=email_thread\n",
    "    )\n",
    "\n",
    "    # Get triage decision\n",
    "    result = llm_router.invoke(\n",
    "        [\n",
    "            {\"role\": \"system\", \"content\": system_prompt},\n",
    "            {\"role\": \"user\", \"content\": user_prompt},\n",
    "        ]\n",
    "    )\n",
    "    routing_decision = result.classification\n",
    "\n",
    "    # Get human feedback\n",
    "    human_feedback = interrupt(\n",
    "        # Any JSON serializable value to surface to the human.\n",
    "        # For example, a question or a piece of text or a set of keys in the state\n",
    "       {\n",
    "          \"Triage for review (update to respond, ignore, notify)\": routing_decision\n",
    "       }\n",
    "    )\n",
    "\n",
    "    # Check if human feedback is different from routing decision\n",
    "    if human_feedback != routing_decision:\n",
    "\n",
    "        # Save example\n",
    "        print(\"--Save Example--\")\n",
    "        user = config[\"configurable\"][\"user\"]\n",
    "        namespace = (\"email_assistant\", user, \"examples\")\n",
    "        key = f\"example_{uuid.uuid4()}\"\n",
    "        example = f\"\"\"Email: {state['email_input']}\n",
    "            Original routing: {routing_decision}\n",
    "            Correct routing: {human_feedback}\"\"\"\n",
    "        store.put(namespace, key, example)\n",
    "\n",
    "        # Set routing decision to correct value\n",
    "        routing_decision = human_feedback\n",
    "\n",
    "    # Route\n",
    "    goto = \"__end__\"\n",
    "    update = None\n",
    "    if routing_decision == \"respond\":\n",
    "        print(\"📧 Classification: RESPOND - This email requires a response\")\n",
    "        goto = \"response_agent\"\n",
    "        update = {\n",
    "            \"messages\": [\n",
    "                {\n",
    "                    \"role\": \"user\",\n",
    "                    \"content\": f\"Respond to the email {state['email_input']}\",\n",
    "                }\n",
    "            ],\n",
    "        }\n",
    "    elif routing_decision == \"ignore\":\n",
    "        print(\"🚫 Classification: IGNORE - This email can be safely ignored\")\n",
    "    elif routing_decision == \"notify\":\n",
    "        print(\"🔔 Classification: NOTIFY - This email contains important information\")\n",
    "    else:\n",
    "        raise ValueError(f\"Invalid classification: {routing_decision}\")\n",
    "    return Command(goto=goto, update=update)\n",
    "\n",
    "# Checkpointer\n",
    "memory = MemorySaver()\n",
    "\n",
    "# Build workflow with store and checkpointer, as defined above\n",
    "agent = (\n",
    "    StateGraph(State)\n",
    "    .add_node(triage_router)\n",
    "    .add_node(\"response_agent\", response_agent)\n",
    "    .add_edge(START, \"triage_router\")\n",
    "    .compile(store=store, checkpointer=memory)\n",
    ")\n",
    "\n",
    "# Show the agent\n",
    "display(Image(agent.get_graph(xray=True).draw_mermaid_png()))"
   ]
  },
  {
   "cell_type": "code",
   "execution_count": 24,
   "metadata": {},
   "outputs": [
    {
     "name": "stdout",
     "output_type": "stream",
     "text": [
      "--Triage Email--\n"
     ]
    }
   ],
   "source": [
    "import uuid \n",
    "\n",
    "# Test email input\n",
    "email_input = {\n",
    "    \"author\": \"Sarah Chen <sarah.chen@company.com>\",\n",
    "    \"to\": \"John Doe <john.doe@company.com>\",\n",
    "    \"subject\": \"Update: Backend API Changes Deployed to Staging\",\n",
    "    \"email_thread\": \"\"\"Hi John,\n",
    "\n",
    "Just wanted to let you know that I've deployed the new authentication endpoints we discussed to the staging environment. Key changes include:\n",
    "\n",
    "- Implemented JWT refresh token rotation\n",
    "- Added rate limiting for login attempts\n",
    "- Updated API documentation with new endpoints\n",
    "\n",
    "All tests are passing and the changes are ready for review. You can test it out at staging-api.company.com/auth/*\n",
    "\n",
    "No immediate action needed from your side - just keeping you in the loop since this affects the systems you're working on.\n",
    "\n",
    "Best regards,\n",
    "Sarah\n",
    "\"\"\",\n",
    "}\n",
    "\n",
    "# Create thread\n",
    "thread_id = str(uuid.uuid4())\n",
    "config = {\"configurable\": {\"thread_id\": thread_id, \"user\": \"lance\"}}\n",
    "\n",
    "# Run the graph with feedback\n",
    "updated_instructions = \"\"\"\n",
    "When writing emails:\n",
    "1. Always use a professional tone\n",
    "2. Keep responses concise and to the point\n",
    "3. Include a clear call to action if needed\n",
    "4. Sign off with the user's name\n",
    "5. For technical updates, include a brief summary at the top\"\"\"\n",
    "response = agent.invoke({\"messages\": {\"role\": \"user\", \"content\": updated_instructions}},config)"
   ]
  },
  {
   "cell_type": "code",
   "execution_count": 25,
   "metadata": {},
   "outputs": [
    {
     "name": "stdout",
     "output_type": "stream",
     "text": [
      "================================\u001b[1m Human Message \u001b[0m=================================\n",
      "\n",
      "\n",
      "When writing emails:\n",
      "1. Always use a professional tone\n",
      "2. Keep responses concise and to the point\n",
      "3. Include a clear call to action if needed\n",
      "4. Sign off with the user's name\n",
      "5. For technical updates, include a brief summary at the top\n",
      "==================================\u001b[1m Ai Message \u001b[0m==================================\n",
      "\n",
      "[{'text': \"I'll help store these important email writing guidelines in memory so they can be consistently applied when composing emails for you. Let me save these instructions.\", 'type': 'text'}, {'id': 'toolu_01Y228hGbQjDy8hYZymXkjGv', 'input': {'action': 'create', 'content': \"Email Writing Guidelines:\\n1. Always maintain a professional tone\\n2. Keep responses concise and to the point\\n3. Include a clear call to action when needed\\n4. Sign off with 'John'\\n5. For technical updates, include a brief summary at the top\"}, 'name': 'manage_memory', 'type': 'tool_use'}]\n",
      "Tool Calls:\n",
      "  manage_memory (toolu_01Y228hGbQjDy8hYZymXkjGv)\n",
      " Call ID: toolu_01Y228hGbQjDy8hYZymXkjGv\n",
      "  Args:\n",
      "    action: create\n",
      "    content: Email Writing Guidelines:\n",
      "1. Always maintain a professional tone\n",
      "2. Keep responses concise and to the point\n",
      "3. Include a clear call to action when needed\n",
      "4. Sign off with 'John'\n",
      "5. For technical updates, include a brief summary at the top\n",
      "=================================\u001b[1m Tool Message \u001b[0m=================================\n",
      "Name: manage_memory\n",
      "\n",
      "created memory 84e4ad93-91f1-45ed-8e25-c5528933e11a\n",
      "==================================\u001b[1m Ai Message \u001b[0m==================================\n",
      "\n",
      "I've stored these email writing guidelines in memory. I will follow these rules when composing emails on your behalf. These guidelines will help maintain professional and effective communication while ensuring your emails are clear and actionable.\n",
      "\n",
      "A few notes about how I'll implement these guidelines:\n",
      "- I'll ensure all emails maintain a professional tone while being concise\n",
      "- When technical information is involved, I'll start with a clear summary before getting into details\n",
      "- Every email will be signed with \"John\" as requested\n",
      "- When action is needed, I'll make the required actions clear and explicit\n",
      "- All responses will be focused and to the point, avoiding unnecessary information\n",
      "\n",
      "Would you like me to demonstrate these guidelines with a sample email, or is there anything specific about these guidelines you'd like me to clarify?\n"
     ]
    }
   ],
   "source": [
    "state = agent.get_state(config)\n",
    "for m in state.values.get(\"messages\"):\n",
    "    m.pretty_print()"
   ]
  },
  {
   "cell_type": "code",
   "execution_count": 26,
   "metadata": {},
   "outputs": [
    {
     "data": {
      "text/plain": [
       "Item(namespace=['email_assistant', 'lance', 'instructions'], key='user_instructions', value=\"\\nUse these tools when appropriate to help manage {name}'s tasks efficiently.\\nIf updating the user profile, do not omit past information. Simply it with new information from the email that that fits within the profile schema.\\n\", created_at='2025-02-06T23:35:04.545060+00:00', updated_at='2025-02-06T23:35:04.545063+00:00')"
      ]
     },
     "execution_count": 26,
     "metadata": {},
     "output_type": "execute_result"
    }
   ],
   "source": [
    "# TODO: The instructions that we passed are not updated in the store\n",
    "namespace = (\"email_assistant\", user, \"instructions\")\n",
    "key = \"user_instructions\"\n",
    "instructions = store.get(namespace, key)\n",
    "instructions"
   ]
  },
  {
   "cell_type": "code",
   "execution_count": null,
   "metadata": {},
   "outputs": [],
   "source": []
  }
 ],
 "metadata": {
  "kernelspec": {
   "display_name": "memory-course-env",
   "language": "python",
   "name": "python3"
  },
  "language_info": {
   "codemirror_mode": {
    "name": "ipython",
    "version": 3
   },
   "file_extension": ".py",
   "mimetype": "text/x-python",
   "name": "python",
   "nbconvert_exporter": "python",
   "pygments_lexer": "ipython3",
   "version": "3.13.1"
  }
 },
 "nbformat": 4,
 "nbformat_minor": 2
}

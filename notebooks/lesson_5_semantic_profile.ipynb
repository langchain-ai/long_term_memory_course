{
 "cells": [
  {
   "cell_type": "code",
   "execution_count": null,
   "metadata": {},
   "outputs": [],
   "source": [
    "! pip install langchain-anthropic langgraph"
   ]
  },
  {
   "cell_type": "code",
   "execution_count": 1,
   "metadata": {},
   "outputs": [],
   "source": [
    "import os, getpass\n",
    "\n",
    "def _set_env(var: str):\n",
    "    if not os.environ.get(var):\n",
    "        os.environ[var] = getpass.getpass(f\"{var}: \")\n",
    "\n",
    "_set_env(\"ANTHROPIC_API_KEY\")"
   ]
  },
  {
   "cell_type": "markdown",
   "metadata": {},
   "source": [
    "## Memory Profile\n",
    "\n",
    "You can think of this as a fixed profile of facts (\"semantic\" memory) about the user.\n",
    "\n",
    "These are typically user attributes that fall within a pre-defined schema. \n",
    "\n",
    "You'll see that this gives us a useful, general context to have in all of our interactions with the user.\n",
    "\n",
    "Let's build on what we did in the previous lessons.\n",
    "\n",
    "First, we define a profile schema for the user.\n",
    "\n",
    "![](./img/memory_course_semantic_profile.png)\n"
   ]
  },
  {
   "cell_type": "code",
   "execution_count": 1,
   "metadata": {},
   "outputs": [],
   "source": [
    "from pydantic import BaseModel, Field\n",
    "from typing import List\n",
    "from langchain_anthropic import ChatAnthropic\n",
    "\n",
    "# Schema for user profile\n",
    "class UserProfile(BaseModel):\n",
    "    name: str = Field(None, description=\"User's full name\")\n",
    "    location: str = Field(None, description=\"User's primary location/city\")\n",
    "    workplace: str = Field(None, description=\"User's place of work\")\n",
    "    relationships: list[dict] = Field(None, description=\"User's relationships\")\n",
    "\n",
    "# Define and augment LLM with structured output\n",
    "llm = ChatAnthropic(model=\"claude-3-5-sonnet-latest\")\n",
    "structured_llm = llm.with_structured_output(UserProfile)"
   ]
  },
  {
   "cell_type": "code",
   "execution_count": 2,
   "metadata": {},
   "outputs": [],
   "source": [
    "# We can store the instructions for easy access and updating\n",
    "from langgraph.store.memory import InMemoryStore\n",
    "in_memory_store = InMemoryStore()"
   ]
  },
  {
   "cell_type": "code",
   "execution_count": 14,
   "metadata": {},
   "outputs": [],
   "source": [
    "import sys\n",
    "sys.path.append('..')\n",
    "import src.memory_course.prompts\n",
    "import src.memory_course.examples\n",
    "import src.memory_course.utils\n",
    "\n",
    "# Reload the module in case any changes were made\n",
    "import importlib\n",
    "importlib.reload(src.memory_course.prompts)\n",
    "importlib.reload(src.memory_course.examples)\n",
    "importlib.reload(src.memory_course.utils)\n",
    "\n",
    "# Then import the instructions and examples\n",
    "from src.memory_course.utils import format_few_shot_examples\n",
    "from src.memory_course.examples import example_input, example_output\n",
    "from src.memory_course.prompts import memory_collection_extraction_instructions, memory_search_instructions, memory_profile_extraction_instructions, profile_extraction_input"
   ]
  },
  {
   "cell_type": "code",
   "execution_count": 5,
   "metadata": {},
   "outputs": [],
   "source": [
    "# Profile extraction instructions\n",
    "namespace = (\"journal\",\"instructions\")\n",
    "key = \"instructions_profile_extraction\"\n",
    "in_memory_store.put(namespace, key, {\"instructions\": memory_profile_extraction_instructions})"
   ]
  },
  {
   "cell_type": "code",
   "execution_count": 10,
   "metadata": {},
   "outputs": [],
   "source": [
    "def extract_profile(journal_entry):\n",
    "    \"\"\"Extract a profile from a journal entry.\n",
    "    \n",
    "    Args:\n",
    "        journal_entry (str): The text of the journal entry to analyze\n",
    "        \n",
    "    Returns:\n",
    "        dict: A dictionary containing extracted profile\n",
    "    \"\"\"\n",
    "    # Get instructions\n",
    "    memory_profile_extraction_instructions = in_memory_store.get((\"journal\",\"instructions\"), \"instructions_profile_extraction\")\n",
    "\n",
    "    # Get existing profile\n",
    "    namespace = (\"journal\", \"memory\", \"profile\")\n",
    "    key = \"profile\"\n",
    "    profile = in_memory_store.get(namespace, key)\n",
    "\n",
    "    # Format input\n",
    "    input = profile_extraction_input.format(\n",
    "        memory_profile_extraction_instructions=memory_profile_extraction_instructions,\n",
    "        profile=profile,\n",
    "        journal_entry=journal_entry\n",
    "    )\n",
    "\n",
    "    # Run extraction\n",
    "    profile = structured_llm.invoke(input)\n",
    "\n",
    "    return profile\n",
    "\n",
    "def store_user_profile(profile):\n",
    "    \"\"\"Store the user's profile in the memory store.\n",
    "        \n",
    "    Args:\n",
    "        profile (dict): The profile information to store, containing extracted\n",
    "            personality traits, preferences, and characteristics\n",
    "            \n",
    "    Returns:\n",
    "        None\n",
    "    \"\"\"\n",
    "    # Iterate through each memory and store in appropriate collection\n",
    "    namespace = (\"journal\", \"memory\", \"profile\")\n",
    "    key = \"profile\"\n",
    "    value = profile\n",
    "    in_memory_store.put(namespace, key, value)"
   ]
  },
  {
   "cell_type": "code",
   "execution_count": 11,
   "metadata": {},
   "outputs": [
    {
     "data": {
      "text/plain": [
       "UserProfile(name='Lance', location='San Francisco', workplace='LangChain', relationships=[{'type': 'spouse', 'description': 'married'}, {'type': 'daughter', 'description': '16 months old'}])"
      ]
     },
     "execution_count": 11,
     "metadata": {},
     "output_type": "execute_result"
    }
   ],
   "source": [
    "# Test extraction of memories\n",
    "journal_entry = \"\"\"\n",
    "I'll first introduce myself before I start the journal.\n",
    "\n",
    "I'm Lance, I work at LangChain, I live in San Francisco, and I'm married with a 16 month old daughter.\n",
    "\"\"\"\n",
    "\n",
    "profile=extract_profile(journal_entry)\n",
    "profile"
   ]
  },
  {
   "cell_type": "code",
   "execution_count": 12,
   "metadata": {},
   "outputs": [],
   "source": [
    "store_user_profile(profile)"
   ]
  },
  {
   "cell_type": "code",
   "execution_count": 13,
   "metadata": {},
   "outputs": [
    {
     "data": {
      "text/plain": [
       "UserProfile(name='Lance', location='San Francisco', workplace='LangChain', relationships=[{'type': 'spouse', 'description': 'married'}, {'type': 'daughter', 'description': '16 months old'}, {'type': 'co-worker', 'description': 'Will'}])"
      ]
     },
     "execution_count": 13,
     "metadata": {},
     "output_type": "execute_result"
    }
   ],
   "source": [
    "# Test updating profile\n",
    "journal_entry = \"\"\"\n",
    "I need to ping Will (co-worker) about the new LangChain memory docs.\n",
    "\"\"\"\n",
    "\n",
    "profile=extract_profile(journal_entry)\n",
    "profile"
   ]
  },
  {
   "cell_type": "markdown",
   "metadata": {},
   "source": [
    "So now we can:\n",
    "\n",
    "1. Extract memories (collections) and user profile from a journal entry given a set of instructions (system message)\n",
    "2. Update those instructions based upon user feedback directly \n",
    "3. Add few shot examples to improve the quality of the extraction\n",
    "4. Update those few shot examples based upon user feedback directly \n",
    "5. Save a collection of extracted memories to the store\n",
    "6. Search for memories in a given collection in natural language\n",
    "\n",
    "This is a simple example of using and editing both \"procedural memory\" (system prompt/instructions) and \"episodic memory\" (few shot examples). \n",
    "\n",
    "In addition, we save \"semantic memories\" (fact collections as well as a single profile) about the user.\n",
    "\n",
    "And we can search for memories in a given collection in natural language. \n"
   ]
  },
  {
   "cell_type": "markdown",
   "metadata": {},
   "source": []
  }
 ],
 "metadata": {
  "kernelspec": {
   "display_name": "memory-course-env",
   "language": "python",
   "name": "python3"
  },
  "language_info": {
   "codemirror_mode": {
    "name": "ipython",
    "version": 3
   },
   "file_extension": ".py",
   "mimetype": "text/x-python",
   "name": "python",
   "nbconvert_exporter": "python",
   "pygments_lexer": "ipython3",
   "version": "3.13.1"
  }
 },
 "nbformat": 4,
 "nbformat_minor": 2
}
